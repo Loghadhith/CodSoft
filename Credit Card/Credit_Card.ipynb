{
  "nbformat": 4,
  "nbformat_minor": 0,
  "metadata": {
    "colab": {
      "provenance": []
    },
    "kernelspec": {
      "name": "python3",
      "display_name": "Python 3"
    },
    "language_info": {
      "name": "python"
    }
  },
  "cells": [
    {
      "cell_type": "code",
      "source": [
        "import pandas as pd\n",
        "from sklearn.ensemble import RandomForestClassifier\n",
        "from sklearn.metrics import accuracy_score, classification_report\n",
        "from sklearn.model_selection import train_test_split\n",
        "from sklearn.impute import SimpleImputer  # Import the imputer\n",
        "\n",
        "# Load the training dataset\n",
        "data_train = pd.read_csv('fraudTrain.csv')\n",
        "\n",
        "# Load the testing dataset\n",
        "data_test = pd.read_csv('fraudTest.csv')\n",
        "\n",
        "# Handle missing values in the target variable 'is_fraud'\n",
        "data_train['is_fraud'].fillna(0, inplace=True)  # Filling missing values with 0\n",
        "data_test['is_fraud'].fillna(0, inplace=True)   # Filling missing values with 0\n",
        "\n",
        "# Specify the features (X) and the target variable (y)\n",
        "features = [\n",
        "    'amt', 'lat', 'long', 'city_pop', 'unix_time',\n",
        "    # Add other columns as needed\n",
        "]\n",
        "\n",
        "X_train = data_train[features]\n",
        "X_test = data_test[features]\n",
        "\n",
        "y_train = data_train['is_fraud']\n",
        "y_test = data_test['is_fraud']\n",
        "\n",
        "# Impute missing values in the feature columns (X_train and X_test)\n",
        "imputer = SimpleImputer(strategy='mean')  # You can change the strategy as needed\n",
        "X_train = imputer.fit_transform(X_train)\n",
        "X_test = imputer.transform(X_test)\n",
        "\n",
        "# Train a Random Forest classifier\n",
        "clf = RandomForestClassifier(random_state=42)\n",
        "clf.fit(X_train, y_train)\n",
        "\n",
        "# Predict on the test set\n",
        "y_pred = clf.predict(X_test)\n",
        "\n",
        "# Evaluate the model\n",
        "accuracy = accuracy_score(y_test, y_pred)\n",
        "classification_report_str = classification_report(y_test, y_pred)\n",
        "\n",
        "# Print the results\n",
        "print(\"Accuracy:\", accuracy)\n",
        "print(\"\\nClassification Report:\")\n",
        "print(classification_report_str)"
      ],
      "metadata": {
        "colab": {
          "base_uri": "https://localhost:8080/"
        },
        "id": "tOmNbsNzvr7G",
        "outputId": "9da0f1f7-d27b-41d3-88fc-13315cf2c5fa"
      },
      "execution_count": null,
      "outputs": [
        {
          "output_type": "stream",
          "name": "stdout",
          "text": [
            "Accuracy: 0.9957676451587942\n",
            "\n",
            "Classification Report:\n",
            "              precision    recall  f1-score   support\n",
            "\n",
            "           0       1.00      1.00      1.00    553574\n",
            "           1       0.40      0.19      0.26      2145\n",
            "\n",
            "    accuracy                           1.00    555719\n",
            "   macro avg       0.70      0.60      0.63    555719\n",
            "weighted avg       0.99      1.00      1.00    555719\n",
            "\n"
          ]
        }
      ]
    }
  ]
}